{
 "cells": [
  {
   "cell_type": "markdown",
   "id": "00a64f09-65a1-42e2-8067-59bbc031f737",
   "metadata": {},
   "source": [
    "# Udacity Project: Write a Data Science Blog Post #\n",
    "\n",
    "## Introduction ##\n",
    "For this project we will be looking at information on movies from The Movie Database.  We will be following the CRISP-DM process to complete this project."
   ]
  },
  {
   "cell_type": "markdown",
   "id": "fe1dacf3-babb-4cb0-b481-1995fa87e14e",
   "metadata": {},
   "source": [
    "## Business Understanding ##\n",
    "The data that will be used for this project comes from the Movie Database (TMDb) which was obtained on Kaggle.com.  This data contains information on over 10,000 movies including popularity, budget, revenue, director and cast. TMDb is a community built movie and TV database which means it is has been built and is updated by it's users.  <br>\n",
    "I will be exploring this data to answer a number of questions that interest me.\n",
    "1. What are the top movies by popularity?\n",
    "2. What are the top movies by revenue?\n",
    "3. Is there any correlation between popularity and revenue?\n",
    "4. Is there any correlation between popularity and revenue or voting average?\n",
    "5. What are the longest and shortest movie runtimes?\n",
    "6. Does runtime affect the popularity of a movie?"
   ]
  },
  {
   "cell_type": "markdown",
   "id": "8f89718a-b83b-4232-8fc0-b486dff945da",
   "metadata": {},
   "source": [
    "## Data Understanding ##\n",
    "Here we will gain an understanding of the data necessary to answer the above questions. We will load the data and take a look at the information available."
   ]
  },
  {
   "cell_type": "markdown",
   "id": "6a631465-a31d-4013-950a-a606972c3263",
   "metadata": {},
   "source": [
    "<b>First we need to import the necessary libraries needed for data wrangling and exploration<b>"
   ]
  },
  {
   "cell_type": "code",
   "execution_count": 1,
   "id": "76996e77-943f-4ef1-a85e-36e077b09652",
   "metadata": {},
   "outputs": [],
   "source": [
    "import numpy as np\n",
    "import pandas as pd\n",
    "import scipy.stats \n",
    "#display all float values with 2 decimal places\n",
    "pd.options.display.float_format = '{:.2f}'.format\n",
    "import matplotlib.pyplot as plt\n",
    "import matplotlib\n",
    "%matplotlib inline"
   ]
  },
  {
   "cell_type": "markdown",
   "id": "220fc352-24df-421a-9638-06a025bd218a",
   "metadata": {},
   "source": [
    "<b>Read in the csv file and take a look at the first 5 rows<b>"
   ]
  },
  {
   "cell_type": "code",
   "execution_count": 2,
   "id": "60fdcb2e-d21d-44b5-b1c5-579819cf4883",
   "metadata": {},
   "outputs": [
    {
     "data": {
      "text/html": [
       "<div>\n",
       "<style scoped>\n",
       "    .dataframe tbody tr th:only-of-type {\n",
       "        vertical-align: middle;\n",
       "    }\n",
       "\n",
       "    .dataframe tbody tr th {\n",
       "        vertical-align: top;\n",
       "    }\n",
       "\n",
       "    .dataframe thead th {\n",
       "        text-align: right;\n",
       "    }\n",
       "</style>\n",
       "<table border=\"1\" class=\"dataframe\">\n",
       "  <thead>\n",
       "    <tr style=\"text-align: right;\">\n",
       "      <th></th>\n",
       "      <th>id</th>\n",
       "      <th>imdb_id</th>\n",
       "      <th>popularity</th>\n",
       "      <th>budget</th>\n",
       "      <th>revenue</th>\n",
       "      <th>original_title</th>\n",
       "      <th>cast</th>\n",
       "      <th>homepage</th>\n",
       "      <th>director</th>\n",
       "      <th>tagline</th>\n",
       "      <th>...</th>\n",
       "      <th>overview</th>\n",
       "      <th>runtime</th>\n",
       "      <th>genres</th>\n",
       "      <th>production_companies</th>\n",
       "      <th>release_date</th>\n",
       "      <th>vote_count</th>\n",
       "      <th>vote_average</th>\n",
       "      <th>release_year</th>\n",
       "      <th>budget_adj</th>\n",
       "      <th>revenue_adj</th>\n",
       "    </tr>\n",
       "  </thead>\n",
       "  <tbody>\n",
       "    <tr>\n",
       "      <th>0</th>\n",
       "      <td>135397</td>\n",
       "      <td>tt0369610</td>\n",
       "      <td>32.99</td>\n",
       "      <td>150000000</td>\n",
       "      <td>1513528810</td>\n",
       "      <td>Jurassic World</td>\n",
       "      <td>Chris Pratt|Bryce Dallas Howard|Irrfan Khan|Vi...</td>\n",
       "      <td>http://www.jurassicworld.com/</td>\n",
       "      <td>Colin Trevorrow</td>\n",
       "      <td>The park is open.</td>\n",
       "      <td>...</td>\n",
       "      <td>Twenty-two years after the events of Jurassic ...</td>\n",
       "      <td>124</td>\n",
       "      <td>Action|Adventure|Science Fiction|Thriller</td>\n",
       "      <td>Universal Studios|Amblin Entertainment|Legenda...</td>\n",
       "      <td>6/9/2015</td>\n",
       "      <td>5562</td>\n",
       "      <td>6.50</td>\n",
       "      <td>2015</td>\n",
       "      <td>137999939.30</td>\n",
       "      <td>1392445893.00</td>\n",
       "    </tr>\n",
       "    <tr>\n",
       "      <th>1</th>\n",
       "      <td>76341</td>\n",
       "      <td>tt1392190</td>\n",
       "      <td>28.42</td>\n",
       "      <td>150000000</td>\n",
       "      <td>378436354</td>\n",
       "      <td>Mad Max: Fury Road</td>\n",
       "      <td>Tom Hardy|Charlize Theron|Hugh Keays-Byrne|Nic...</td>\n",
       "      <td>http://www.madmaxmovie.com/</td>\n",
       "      <td>George Miller</td>\n",
       "      <td>What a Lovely Day.</td>\n",
       "      <td>...</td>\n",
       "      <td>An apocalyptic story set in the furthest reach...</td>\n",
       "      <td>120</td>\n",
       "      <td>Action|Adventure|Science Fiction|Thriller</td>\n",
       "      <td>Village Roadshow Pictures|Kennedy Miller Produ...</td>\n",
       "      <td>5/13/2015</td>\n",
       "      <td>6185</td>\n",
       "      <td>7.10</td>\n",
       "      <td>2015</td>\n",
       "      <td>137999939.30</td>\n",
       "      <td>348161292.50</td>\n",
       "    </tr>\n",
       "    <tr>\n",
       "      <th>2</th>\n",
       "      <td>262500</td>\n",
       "      <td>tt2908446</td>\n",
       "      <td>13.11</td>\n",
       "      <td>110000000</td>\n",
       "      <td>295238201</td>\n",
       "      <td>Insurgent</td>\n",
       "      <td>Shailene Woodley|Theo James|Kate Winslet|Ansel...</td>\n",
       "      <td>http://www.thedivergentseries.movie/#insurgent</td>\n",
       "      <td>Robert Schwentke</td>\n",
       "      <td>One Choice Can Destroy You</td>\n",
       "      <td>...</td>\n",
       "      <td>Beatrice Prior must confront her inner demons ...</td>\n",
       "      <td>119</td>\n",
       "      <td>Adventure|Science Fiction|Thriller</td>\n",
       "      <td>Summit Entertainment|Mandeville Films|Red Wago...</td>\n",
       "      <td>3/18/2015</td>\n",
       "      <td>2480</td>\n",
       "      <td>6.30</td>\n",
       "      <td>2015</td>\n",
       "      <td>101199955.50</td>\n",
       "      <td>271619025.40</td>\n",
       "    </tr>\n",
       "    <tr>\n",
       "      <th>3</th>\n",
       "      <td>140607</td>\n",
       "      <td>tt2488496</td>\n",
       "      <td>11.17</td>\n",
       "      <td>200000000</td>\n",
       "      <td>2068178225</td>\n",
       "      <td>Star Wars: The Force Awakens</td>\n",
       "      <td>Harrison Ford|Mark Hamill|Carrie Fisher|Adam D...</td>\n",
       "      <td>http://www.starwars.com/films/star-wars-episod...</td>\n",
       "      <td>J.J. Abrams</td>\n",
       "      <td>Every generation has a story.</td>\n",
       "      <td>...</td>\n",
       "      <td>Thirty years after defeating the Galactic Empi...</td>\n",
       "      <td>136</td>\n",
       "      <td>Action|Adventure|Science Fiction|Fantasy</td>\n",
       "      <td>Lucasfilm|Truenorth Productions|Bad Robot</td>\n",
       "      <td>12/15/2015</td>\n",
       "      <td>5292</td>\n",
       "      <td>7.50</td>\n",
       "      <td>2015</td>\n",
       "      <td>183999919.00</td>\n",
       "      <td>1902723130.00</td>\n",
       "    </tr>\n",
       "    <tr>\n",
       "      <th>4</th>\n",
       "      <td>168259</td>\n",
       "      <td>tt2820852</td>\n",
       "      <td>9.34</td>\n",
       "      <td>190000000</td>\n",
       "      <td>1506249360</td>\n",
       "      <td>Furious 7</td>\n",
       "      <td>Vin Diesel|Paul Walker|Jason Statham|Michelle ...</td>\n",
       "      <td>http://www.furious7.com/</td>\n",
       "      <td>James Wan</td>\n",
       "      <td>Vengeance Hits Home</td>\n",
       "      <td>...</td>\n",
       "      <td>Deckard Shaw seeks revenge against Dominic Tor...</td>\n",
       "      <td>137</td>\n",
       "      <td>Action|Crime|Thriller</td>\n",
       "      <td>Universal Pictures|Original Film|Media Rights ...</td>\n",
       "      <td>4/1/2015</td>\n",
       "      <td>2947</td>\n",
       "      <td>7.30</td>\n",
       "      <td>2015</td>\n",
       "      <td>174799923.10</td>\n",
       "      <td>1385748801.00</td>\n",
       "    </tr>\n",
       "  </tbody>\n",
       "</table>\n",
       "<p>5 rows × 21 columns</p>\n",
       "</div>"
      ],
      "text/plain": [
       "       id    imdb_id  popularity     budget     revenue  \\\n",
       "0  135397  tt0369610       32.99  150000000  1513528810   \n",
       "1   76341  tt1392190       28.42  150000000   378436354   \n",
       "2  262500  tt2908446       13.11  110000000   295238201   \n",
       "3  140607  tt2488496       11.17  200000000  2068178225   \n",
       "4  168259  tt2820852        9.34  190000000  1506249360   \n",
       "\n",
       "                 original_title  \\\n",
       "0                Jurassic World   \n",
       "1            Mad Max: Fury Road   \n",
       "2                     Insurgent   \n",
       "3  Star Wars: The Force Awakens   \n",
       "4                     Furious 7   \n",
       "\n",
       "                                                cast  \\\n",
       "0  Chris Pratt|Bryce Dallas Howard|Irrfan Khan|Vi...   \n",
       "1  Tom Hardy|Charlize Theron|Hugh Keays-Byrne|Nic...   \n",
       "2  Shailene Woodley|Theo James|Kate Winslet|Ansel...   \n",
       "3  Harrison Ford|Mark Hamill|Carrie Fisher|Adam D...   \n",
       "4  Vin Diesel|Paul Walker|Jason Statham|Michelle ...   \n",
       "\n",
       "                                            homepage          director  \\\n",
       "0                      http://www.jurassicworld.com/   Colin Trevorrow   \n",
       "1                        http://www.madmaxmovie.com/     George Miller   \n",
       "2     http://www.thedivergentseries.movie/#insurgent  Robert Schwentke   \n",
       "3  http://www.starwars.com/films/star-wars-episod...       J.J. Abrams   \n",
       "4                           http://www.furious7.com/         James Wan   \n",
       "\n",
       "                         tagline  ...  \\\n",
       "0              The park is open.  ...   \n",
       "1             What a Lovely Day.  ...   \n",
       "2     One Choice Can Destroy You  ...   \n",
       "3  Every generation has a story.  ...   \n",
       "4            Vengeance Hits Home  ...   \n",
       "\n",
       "                                            overview runtime  \\\n",
       "0  Twenty-two years after the events of Jurassic ...     124   \n",
       "1  An apocalyptic story set in the furthest reach...     120   \n",
       "2  Beatrice Prior must confront her inner demons ...     119   \n",
       "3  Thirty years after defeating the Galactic Empi...     136   \n",
       "4  Deckard Shaw seeks revenge against Dominic Tor...     137   \n",
       "\n",
       "                                      genres  \\\n",
       "0  Action|Adventure|Science Fiction|Thriller   \n",
       "1  Action|Adventure|Science Fiction|Thriller   \n",
       "2         Adventure|Science Fiction|Thriller   \n",
       "3   Action|Adventure|Science Fiction|Fantasy   \n",
       "4                      Action|Crime|Thriller   \n",
       "\n",
       "                                production_companies release_date vote_count  \\\n",
       "0  Universal Studios|Amblin Entertainment|Legenda...     6/9/2015       5562   \n",
       "1  Village Roadshow Pictures|Kennedy Miller Produ...    5/13/2015       6185   \n",
       "2  Summit Entertainment|Mandeville Films|Red Wago...    3/18/2015       2480   \n",
       "3          Lucasfilm|Truenorth Productions|Bad Robot   12/15/2015       5292   \n",
       "4  Universal Pictures|Original Film|Media Rights ...     4/1/2015       2947   \n",
       "\n",
       "   vote_average  release_year   budget_adj   revenue_adj  \n",
       "0          6.50          2015 137999939.30 1392445893.00  \n",
       "1          7.10          2015 137999939.30  348161292.50  \n",
       "2          6.30          2015 101199955.50  271619025.40  \n",
       "3          7.50          2015 183999919.00 1902723130.00  \n",
       "4          7.30          2015 174799923.10 1385748801.00  \n",
       "\n",
       "[5 rows x 21 columns]"
      ]
     },
     "execution_count": 2,
     "metadata": {},
     "output_type": "execute_result"
    }
   ],
   "source": [
    "df = pd.read_csv('tmdb_movies_data.csv')\n",
    "df.head()"
   ]
  },
  {
   "cell_type": "markdown",
   "id": "ca40ba5f-aa73-4ed4-a238-9b1c47f7b3b7",
   "metadata": {},
   "source": [
    "<b>Check out the shape of the data<b>"
   ]
  },
  {
   "cell_type": "code",
   "execution_count": 3,
   "id": "48183a92-a008-40a0-b739-6d6c4ded6188",
   "metadata": {},
   "outputs": [
    {
     "data": {
      "text/plain": [
       "(10866, 21)"
      ]
     },
     "execution_count": 3,
     "metadata": {},
     "output_type": "execute_result"
    }
   ],
   "source": [
    "df.shape"
   ]
  },
  {
   "cell_type": "markdown",
   "id": "ce3cdc7b-a880-4aed-9b76-761ebc6db66f",
   "metadata": {},
   "source": [
    "There are 10,866 rows of data and 21 columns"
   ]
  },
  {
   "cell_type": "markdown",
   "id": "ddc8f281-09f7-4a68-8d2f-eb4622071891",
   "metadata": {},
   "source": [
    "<b>Describe the numeric data (rounding the decimals displayed to two)<b>"
   ]
  },
  {
   "cell_type": "code",
   "execution_count": 4,
   "id": "0e45b35d-3fe9-4740-80ab-e1003d13dbd8",
   "metadata": {},
   "outputs": [
    {
     "data": {
      "text/html": [
       "<div>\n",
       "<style scoped>\n",
       "    .dataframe tbody tr th:only-of-type {\n",
       "        vertical-align: middle;\n",
       "    }\n",
       "\n",
       "    .dataframe tbody tr th {\n",
       "        vertical-align: top;\n",
       "    }\n",
       "\n",
       "    .dataframe thead th {\n",
       "        text-align: right;\n",
       "    }\n",
       "</style>\n",
       "<table border=\"1\" class=\"dataframe\">\n",
       "  <thead>\n",
       "    <tr style=\"text-align: right;\">\n",
       "      <th></th>\n",
       "      <th>id</th>\n",
       "      <th>popularity</th>\n",
       "      <th>budget</th>\n",
       "      <th>revenue</th>\n",
       "      <th>runtime</th>\n",
       "      <th>vote_count</th>\n",
       "      <th>vote_average</th>\n",
       "      <th>release_year</th>\n",
       "      <th>budget_adj</th>\n",
       "      <th>revenue_adj</th>\n",
       "    </tr>\n",
       "  </thead>\n",
       "  <tbody>\n",
       "    <tr>\n",
       "      <th>count</th>\n",
       "      <td>10866.00</td>\n",
       "      <td>10866.00</td>\n",
       "      <td>10866.00</td>\n",
       "      <td>10866.00</td>\n",
       "      <td>10866.00</td>\n",
       "      <td>10866.00</td>\n",
       "      <td>10866.00</td>\n",
       "      <td>10866.00</td>\n",
       "      <td>10866.00</td>\n",
       "      <td>10866.00</td>\n",
       "    </tr>\n",
       "    <tr>\n",
       "      <th>mean</th>\n",
       "      <td>66064.18</td>\n",
       "      <td>0.65</td>\n",
       "      <td>14625701.09</td>\n",
       "      <td>39823319.79</td>\n",
       "      <td>102.07</td>\n",
       "      <td>217.39</td>\n",
       "      <td>5.97</td>\n",
       "      <td>2001.32</td>\n",
       "      <td>17551039.82</td>\n",
       "      <td>51364363.25</td>\n",
       "    </tr>\n",
       "    <tr>\n",
       "      <th>std</th>\n",
       "      <td>92130.14</td>\n",
       "      <td>1.00</td>\n",
       "      <td>30913213.83</td>\n",
       "      <td>117003486.58</td>\n",
       "      <td>31.38</td>\n",
       "      <td>575.62</td>\n",
       "      <td>0.94</td>\n",
       "      <td>12.81</td>\n",
       "      <td>34306155.72</td>\n",
       "      <td>144632485.04</td>\n",
       "    </tr>\n",
       "    <tr>\n",
       "      <th>min</th>\n",
       "      <td>5.00</td>\n",
       "      <td>0.00</td>\n",
       "      <td>0.00</td>\n",
       "      <td>0.00</td>\n",
       "      <td>0.00</td>\n",
       "      <td>10.00</td>\n",
       "      <td>1.50</td>\n",
       "      <td>1960.00</td>\n",
       "      <td>0.00</td>\n",
       "      <td>0.00</td>\n",
       "    </tr>\n",
       "    <tr>\n",
       "      <th>25%</th>\n",
       "      <td>10596.25</td>\n",
       "      <td>0.21</td>\n",
       "      <td>0.00</td>\n",
       "      <td>0.00</td>\n",
       "      <td>90.00</td>\n",
       "      <td>17.00</td>\n",
       "      <td>5.40</td>\n",
       "      <td>1995.00</td>\n",
       "      <td>0.00</td>\n",
       "      <td>0.00</td>\n",
       "    </tr>\n",
       "    <tr>\n",
       "      <th>50%</th>\n",
       "      <td>20669.00</td>\n",
       "      <td>0.38</td>\n",
       "      <td>0.00</td>\n",
       "      <td>0.00</td>\n",
       "      <td>99.00</td>\n",
       "      <td>38.00</td>\n",
       "      <td>6.00</td>\n",
       "      <td>2006.00</td>\n",
       "      <td>0.00</td>\n",
       "      <td>0.00</td>\n",
       "    </tr>\n",
       "    <tr>\n",
       "      <th>75%</th>\n",
       "      <td>75610.00</td>\n",
       "      <td>0.71</td>\n",
       "      <td>15000000.00</td>\n",
       "      <td>24000000.00</td>\n",
       "      <td>111.00</td>\n",
       "      <td>145.75</td>\n",
       "      <td>6.60</td>\n",
       "      <td>2011.00</td>\n",
       "      <td>20853251.08</td>\n",
       "      <td>33697095.72</td>\n",
       "    </tr>\n",
       "    <tr>\n",
       "      <th>max</th>\n",
       "      <td>417859.00</td>\n",
       "      <td>32.99</td>\n",
       "      <td>425000000.00</td>\n",
       "      <td>2781505847.00</td>\n",
       "      <td>900.00</td>\n",
       "      <td>9767.00</td>\n",
       "      <td>9.20</td>\n",
       "      <td>2015.00</td>\n",
       "      <td>425000000.00</td>\n",
       "      <td>2827123750.00</td>\n",
       "    </tr>\n",
       "  </tbody>\n",
       "</table>\n",
       "</div>"
      ],
      "text/plain": [
       "              id popularity        budget        revenue   runtime vote_count  \\\n",
       "count   10866.00   10866.00      10866.00       10866.00  10866.00   10866.00   \n",
       "mean    66064.18       0.65   14625701.09    39823319.79    102.07     217.39   \n",
       "std     92130.14       1.00   30913213.83   117003486.58     31.38     575.62   \n",
       "min         5.00       0.00          0.00           0.00      0.00      10.00   \n",
       "25%     10596.25       0.21          0.00           0.00     90.00      17.00   \n",
       "50%     20669.00       0.38          0.00           0.00     99.00      38.00   \n",
       "75%     75610.00       0.71   15000000.00    24000000.00    111.00     145.75   \n",
       "max    417859.00      32.99  425000000.00  2781505847.00    900.00    9767.00   \n",
       "\n",
       "      vote_average release_year    budget_adj    revenue_adj  \n",
       "count     10866.00     10866.00      10866.00       10866.00  \n",
       "mean          5.97      2001.32   17551039.82    51364363.25  \n",
       "std           0.94        12.81   34306155.72   144632485.04  \n",
       "min           1.50      1960.00          0.00           0.00  \n",
       "25%           5.40      1995.00          0.00           0.00  \n",
       "50%           6.00      2006.00          0.00           0.00  \n",
       "75%           6.60      2011.00   20853251.08    33697095.72  \n",
       "max           9.20      2015.00  425000000.00  2827123750.00  "
      ]
     },
     "execution_count": 4,
     "metadata": {},
     "output_type": "execute_result"
    }
   ],
   "source": [
    "df.describe().apply(lambda s: s.apply('{0:.2f}'.format))"
   ]
  },
  {
   "cell_type": "markdown",
   "id": "2d25a269-eaa1-4a0f-b3e3-af306a3ee590",
   "metadata": {},
   "source": [
    "Finding: We can see from the results above that budget, revenue and runtime which are all columns of interest, all have a minimum value of 0.  After checking the Wikipedia for a number of these movies, it has been determined that the zero values are in fact missing values and not true values.  These are not valid values for these columns and will need to be reomoved during the data preparation stage."
   ]
  },
  {
   "cell_type": "markdown",
   "id": "66a2c91f-be23-49bd-8dd0-6bd1082f17e0",
   "metadata": {},
   "source": [
    "<b>Determine the counts of 0 for budget, revenue and runtime<b>"
   ]
  },
  {
   "cell_type": "code",
   "execution_count": 5,
   "id": "274abc17-8ac5-4dbd-8191-bcd11943a611",
   "metadata": {},
   "outputs": [
    {
     "name": "stdout",
     "output_type": "stream",
     "text": [
      "5696\n",
      "6016\n",
      "31\n"
     ]
    }
   ],
   "source": [
    "print(len(df[df['budget_adj'] == 0]))\n",
    "print(len(df[df['revenue_adj'] == 0]))\n",
    "print(len(df[df['runtime'] == 0]))"
   ]
  },
  {
   "cell_type": "markdown",
   "id": "2355937b-6ad8-475d-b074-6ba44db4f66b",
   "metadata": {},
   "source": [
    "Finding: There appears to be a lot of data with the value of zero for budget and revenue.  This reassures me that these are missing values since there are so many."
   ]
  },
  {
   "cell_type": "markdown",
   "id": "484883f7-05cd-4c6a-9b50-478da5218b7d",
   "metadata": {},
   "source": [
    "<b>Check for missing values<b>"
   ]
  },
  {
   "cell_type": "code",
   "execution_count": 6,
   "id": "828e7a7a-4088-42cf-b0df-7cca25bdf729",
   "metadata": {},
   "outputs": [
    {
     "data": {
      "text/plain": [
       "id                         0\n",
       "imdb_id                   10\n",
       "popularity                 0\n",
       "budget                     0\n",
       "revenue                    0\n",
       "original_title             0\n",
       "cast                      76\n",
       "homepage                7930\n",
       "director                  44\n",
       "tagline                 2824\n",
       "keywords                1493\n",
       "overview                   4\n",
       "runtime                    0\n",
       "genres                    23\n",
       "production_companies    1030\n",
       "release_date               0\n",
       "vote_count                 0\n",
       "vote_average               0\n",
       "release_year               0\n",
       "budget_adj                 0\n",
       "revenue_adj                0\n",
       "dtype: int64"
      ]
     },
     "execution_count": 6,
     "metadata": {},
     "output_type": "execute_result"
    }
   ],
   "source": [
    "df.isnull().sum()"
   ]
  },
  {
   "cell_type": "markdown",
   "id": "2c6aabb4-3d76-4844-ba24-968950fbecab",
   "metadata": {},
   "source": [
    "Finding: The columns we are interested in are popularity, original_title, budget_adj, revenue_adj and runtime.  None of these columns have missing data, therefore we do not need to remove any rows or impute and missing values based on this."
   ]
  },
  {
   "cell_type": "markdown",
   "id": "43dac655-a561-41ed-8276-192d2456b519",
   "metadata": {},
   "source": [
    "## Data Preparation ##\n",
    "Preparing the data for analysis takes place at this stage.  For example, removing or imputing missing values, dropping columns, changing column types etc."
   ]
  },
  {
   "cell_type": "markdown",
   "id": "17078c1b-5d45-420a-9a46-0b4ae91eb705",
   "metadata": {},
   "source": [
    "<b>We will need to drop the rows of data that have zero for the value of budget, revenue or runtime<b>"
   ]
  },
  {
   "cell_type": "code",
   "execution_count": 7,
   "id": "4e393d49-70e9-4438-a2a8-50e78bacd920",
   "metadata": {},
   "outputs": [],
   "source": [
    "#Select the data where budget_adj = 0 or revenue_adj = 0 or runtime = 0 to drop from the dataframe\n",
    "index_names = df[(df['budget_adj'] == 0) | (df['revenue_adj'] == 0) | (df['runtime'] ==0)].index\n",
    "df.drop(index_names, inplace=True)"
   ]
  },
  {
   "cell_type": "code",
   "execution_count": 8,
   "id": "b9533fa3-2ab4-4636-8a46-ff248f835177",
   "metadata": {},
   "outputs": [
    {
     "data": {
      "text/plain": [
       "(3855, 21)"
      ]
     },
     "execution_count": 8,
     "metadata": {},
     "output_type": "execute_result"
    }
   ],
   "source": [
    "df.shape"
   ]
  },
  {
   "cell_type": "markdown",
   "id": "5ffbdd23-c439-4f99-a1e7-3ce34b24bf15",
   "metadata": {},
   "source": [
    "Finding: This has reduced our data to 3855 records, but we now have data that will answer our questions more accurately."
   ]
  },
  {
   "cell_type": "markdown",
   "id": "665c1201-a3b9-49c4-bba4-870e86a3bed2",
   "metadata": {},
   "source": [
    "## Model Data/Results ##"
   ]
  },
  {
   "cell_type": "markdown",
   "id": "129e4e30-5091-4fe3-bfe1-4ec78d7affda",
   "metadata": {},
   "source": [
    "<b>To answer the first two questions, we need to sort the data on popularity and then on revenue in descending order and list the top movies.  I will use the adjusted revenue column which has adjusted all the dollars based on 2010's dollar value."
   ]
  },
  {
   "cell_type": "code",
   "execution_count": 9,
   "id": "ec17bd90-50c0-4234-9440-99b07c612455",
   "metadata": {},
   "outputs": [
    {
     "data": {
      "text/html": [
       "<div>\n",
       "<style scoped>\n",
       "    .dataframe tbody tr th:only-of-type {\n",
       "        vertical-align: middle;\n",
       "    }\n",
       "\n",
       "    .dataframe tbody tr th {\n",
       "        vertical-align: top;\n",
       "    }\n",
       "\n",
       "    .dataframe thead th {\n",
       "        text-align: right;\n",
       "    }\n",
       "</style>\n",
       "<table border=\"1\" class=\"dataframe\">\n",
       "  <thead>\n",
       "    <tr style=\"text-align: right;\">\n",
       "      <th></th>\n",
       "      <th>original_title</th>\n",
       "      <th>popularity</th>\n",
       "      <th>release_year</th>\n",
       "    </tr>\n",
       "  </thead>\n",
       "  <tbody>\n",
       "    <tr>\n",
       "      <th>0</th>\n",
       "      <td>Jurassic World</td>\n",
       "      <td>32.99</td>\n",
       "      <td>2015</td>\n",
       "    </tr>\n",
       "    <tr>\n",
       "      <th>1</th>\n",
       "      <td>Mad Max: Fury Road</td>\n",
       "      <td>28.42</td>\n",
       "      <td>2015</td>\n",
       "    </tr>\n",
       "    <tr>\n",
       "      <th>629</th>\n",
       "      <td>Interstellar</td>\n",
       "      <td>24.95</td>\n",
       "      <td>2014</td>\n",
       "    </tr>\n",
       "    <tr>\n",
       "      <th>630</th>\n",
       "      <td>Guardians of the Galaxy</td>\n",
       "      <td>14.31</td>\n",
       "      <td>2014</td>\n",
       "    </tr>\n",
       "    <tr>\n",
       "      <th>2</th>\n",
       "      <td>Insurgent</td>\n",
       "      <td>13.11</td>\n",
       "      <td>2015</td>\n",
       "    </tr>\n",
       "    <tr>\n",
       "      <th>631</th>\n",
       "      <td>Captain America: The Winter Soldier</td>\n",
       "      <td>12.97</td>\n",
       "      <td>2014</td>\n",
       "    </tr>\n",
       "    <tr>\n",
       "      <th>1329</th>\n",
       "      <td>Star Wars</td>\n",
       "      <td>12.04</td>\n",
       "      <td>1977</td>\n",
       "    </tr>\n",
       "    <tr>\n",
       "      <th>632</th>\n",
       "      <td>John Wick</td>\n",
       "      <td>11.42</td>\n",
       "      <td>2014</td>\n",
       "    </tr>\n",
       "    <tr>\n",
       "      <th>3</th>\n",
       "      <td>Star Wars: The Force Awakens</td>\n",
       "      <td>11.17</td>\n",
       "      <td>2015</td>\n",
       "    </tr>\n",
       "    <tr>\n",
       "      <th>633</th>\n",
       "      <td>The Hunger Games: Mockingjay - Part 1</td>\n",
       "      <td>10.74</td>\n",
       "      <td>2014</td>\n",
       "    </tr>\n",
       "  </tbody>\n",
       "</table>\n",
       "</div>"
      ],
      "text/plain": [
       "                             original_title  popularity  release_year\n",
       "0                            Jurassic World       32.99          2015\n",
       "1                        Mad Max: Fury Road       28.42          2015\n",
       "629                            Interstellar       24.95          2014\n",
       "630                 Guardians of the Galaxy       14.31          2014\n",
       "2                                 Insurgent       13.11          2015\n",
       "631     Captain America: The Winter Soldier       12.97          2014\n",
       "1329                              Star Wars       12.04          1977\n",
       "632                               John Wick       11.42          2014\n",
       "3              Star Wars: The Force Awakens       11.17          2015\n",
       "633   The Hunger Games: Mockingjay - Part 1       10.74          2014"
      ]
     },
     "execution_count": 9,
     "metadata": {},
     "output_type": "execute_result"
    }
   ],
   "source": [
    "#Sort based on Popularity\n",
    "df_pop = df.sort_values(['popularity'], ascending = False).head(10)\n",
    "df_pop.head(10)[['original_title', 'popularity', 'release_year']]\n",
    "#df_pop.head(10)[['original_title', 'popularity', 'release_year']].style.hide_index()"
   ]
  },
  {
   "cell_type": "code",
   "execution_count": 10,
   "id": "86661632-6784-4703-bb62-0b7594155a6d",
   "metadata": {},
   "outputs": [
    {
     "data": {
      "text/html": [
       "<div>\n",
       "<style scoped>\n",
       "    .dataframe tbody tr th:only-of-type {\n",
       "        vertical-align: middle;\n",
       "    }\n",
       "\n",
       "    .dataframe tbody tr th {\n",
       "        vertical-align: top;\n",
       "    }\n",
       "\n",
       "    .dataframe thead th {\n",
       "        text-align: right;\n",
       "    }\n",
       "</style>\n",
       "<table border=\"1\" class=\"dataframe\">\n",
       "  <thead>\n",
       "    <tr style=\"text-align: right;\">\n",
       "      <th></th>\n",
       "      <th>original_title</th>\n",
       "      <th>revenue_adj</th>\n",
       "      <th>release_year</th>\n",
       "    </tr>\n",
       "  </thead>\n",
       "  <tbody>\n",
       "    <tr>\n",
       "      <th>1386</th>\n",
       "      <td>Avatar</td>\n",
       "      <td>2827123750.00</td>\n",
       "      <td>2009</td>\n",
       "    </tr>\n",
       "    <tr>\n",
       "      <th>1329</th>\n",
       "      <td>Star Wars</td>\n",
       "      <td>2789712242.00</td>\n",
       "      <td>1977</td>\n",
       "    </tr>\n",
       "    <tr>\n",
       "      <th>5231</th>\n",
       "      <td>Titanic</td>\n",
       "      <td>2506405735.00</td>\n",
       "      <td>1997</td>\n",
       "    </tr>\n",
       "    <tr>\n",
       "      <th>10594</th>\n",
       "      <td>The Exorcist</td>\n",
       "      <td>2167324901.00</td>\n",
       "      <td>1973</td>\n",
       "    </tr>\n",
       "    <tr>\n",
       "      <th>9806</th>\n",
       "      <td>Jaws</td>\n",
       "      <td>1907005842.00</td>\n",
       "      <td>1975</td>\n",
       "    </tr>\n",
       "    <tr>\n",
       "      <th>3</th>\n",
       "      <td>Star Wars: The Force Awakens</td>\n",
       "      <td>1902723130.00</td>\n",
       "      <td>2015</td>\n",
       "    </tr>\n",
       "    <tr>\n",
       "      <th>8889</th>\n",
       "      <td>E.T. the Extra-Terrestrial</td>\n",
       "      <td>1791694309.00</td>\n",
       "      <td>1982</td>\n",
       "    </tr>\n",
       "    <tr>\n",
       "      <th>8094</th>\n",
       "      <td>The Net</td>\n",
       "      <td>1583049536.00</td>\n",
       "      <td>1995</td>\n",
       "    </tr>\n",
       "    <tr>\n",
       "      <th>10110</th>\n",
       "      <td>One Hundred and One Dalmatians</td>\n",
       "      <td>1574814740.00</td>\n",
       "      <td>1961</td>\n",
       "    </tr>\n",
       "    <tr>\n",
       "      <th>4361</th>\n",
       "      <td>The Avengers</td>\n",
       "      <td>1443191435.00</td>\n",
       "      <td>2012</td>\n",
       "    </tr>\n",
       "  </tbody>\n",
       "</table>\n",
       "</div>"
      ],
      "text/plain": [
       "                       original_title   revenue_adj  release_year\n",
       "1386                           Avatar 2827123750.00          2009\n",
       "1329                        Star Wars 2789712242.00          1977\n",
       "5231                          Titanic 2506405735.00          1997\n",
       "10594                    The Exorcist 2167324901.00          1973\n",
       "9806                             Jaws 1907005842.00          1975\n",
       "3        Star Wars: The Force Awakens 1902723130.00          2015\n",
       "8889       E.T. the Extra-Terrestrial 1791694309.00          1982\n",
       "8094                          The Net 1583049536.00          1995\n",
       "10110  One Hundred and One Dalmatians 1574814740.00          1961\n",
       "4361                     The Avengers 1443191435.00          2012"
      ]
     },
     "execution_count": 10,
     "metadata": {},
     "output_type": "execute_result"
    }
   ],
   "source": [
    "#Sort based on Revenue Adjusted\n",
    "df_rev = df.sort_values(['revenue_adj'], ascending = False).head(10)\n",
    "df_rev.head(10)[['original_title', 'revenue_adj', 'release_year']]\n",
    "#df_rev.head(10)[['original_title', 'revenue_adj', 'release_year']].style.hide_index()"
   ]
  },
  {
   "cell_type": "code",
   "execution_count": 11,
   "id": "97b11097-dfcc-46c3-83ff-d3b3db434304",
   "metadata": {},
   "outputs": [
    {
     "data": {
      "image/png": "[encoded data removed]",
      "text/plain": [
       "<Figure size 1080x360 with 2 Axes>"
      ]
     },
     "metadata": {
      "needs_background": "light"
     },
     "output_type": "display_data"
    }
   ],
   "source": [
    "#plot the top 10 movies based on popularity and revenue\n",
    "plt.figure(figsize = (15,5))\n",
    "\n",
    "plt.subplot(1,2,1)\n",
    "plt.bar(df_pop.original_title, df_pop.popularity);\n",
    "plt.xlabel(\"Original tile\")\n",
    "plt.xticks(rotation=90) \n",
    "plt.ylabel(\"Popularity\")\n",
    "\n",
    "plt.subplot(1,2,2)\n",
    "plt.bar(df_rev.original_title, df_rev.revenue_adj);\n",
    "plt.xlabel(\"Original title\")\n",
    "plt.xticks(rotation=90)\n",
    "plt.ylabel(\"Revenue adjusted\");"
   ]
  },
  {
   "cell_type": "markdown",
   "id": "86542e36-c8c4-4903-a1c1-ea84e17471ca",
   "metadata": {},
   "source": [
    "<b>I decided to also look at the top movies based on the voting average which is votes given by the users."
   ]
  },
  {
   "cell_type": "code",
   "execution_count": 12,
   "id": "7f64f80b-0f89-488c-b28a-8754105a5be9",
   "metadata": {},
   "outputs": [
    {
     "data": {
      "text/html": [
       "<style  type=\"text/css\" >\n",
       "</style><table id=\"T_83d54_\" ><thead>    <tr>        <th class=\"col_heading level0 col0\" >original_title</th>        <th class=\"col_heading level0 col1\" >vote_average</th>        <th class=\"col_heading level0 col2\" >release_year</th>    </tr></thead><tbody>\n",
       "                <tr>\n",
       "                                <td id=\"T_83d54_row0_col0\" class=\"data row0 col0\" >The Shawshank Redemption</td>\n",
       "                        <td id=\"T_83d54_row0_col1\" class=\"data row0 col1\" >8.400000</td>\n",
       "                        <td id=\"T_83d54_row0_col2\" class=\"data row0 col2\" >1994</td>\n",
       "            </tr>\n",
       "            <tr>\n",
       "                                <td id=\"T_83d54_row1_col0\" class=\"data row1 col0\" >Stop Making Sense</td>\n",
       "                        <td id=\"T_83d54_row1_col1\" class=\"data row1 col1\" >8.400000</td>\n",
       "                        <td id=\"T_83d54_row1_col2\" class=\"data row1 col2\" >1984</td>\n",
       "            </tr>\n",
       "            <tr>\n",
       "                                <td id=\"T_83d54_row2_col0\" class=\"data row2 col0\" >The Godfather</td>\n",
       "                        <td id=\"T_83d54_row2_col1\" class=\"data row2 col1\" >8.300000</td>\n",
       "                        <td id=\"T_83d54_row2_col2\" class=\"data row2 col2\" >1972</td>\n",
       "            </tr>\n",
       "            <tr>\n",
       "                                <td id=\"T_83d54_row3_col0\" class=\"data row3 col0\" >Whiplash</td>\n",
       "                        <td id=\"T_83d54_row3_col1\" class=\"data row3 col1\" >8.200000</td>\n",
       "                        <td id=\"T_83d54_row3_col2\" class=\"data row3 col2\" >2014</td>\n",
       "            </tr>\n",
       "            <tr>\n",
       "                                <td id=\"T_83d54_row4_col0\" class=\"data row4 col0\" >The Godfather: Part II</td>\n",
       "                        <td id=\"T_83d54_row4_col1\" class=\"data row4 col1\" >8.100000</td>\n",
       "                        <td id=\"T_83d54_row4_col2\" class=\"data row4 col2\" >1974</td>\n",
       "            </tr>\n",
       "            <tr>\n",
       "                                <td id=\"T_83d54_row5_col0\" class=\"data row5 col0\" >The Dark Knight</td>\n",
       "                        <td id=\"T_83d54_row5_col1\" class=\"data row5 col1\" >8.100000</td>\n",
       "                        <td id=\"T_83d54_row5_col2\" class=\"data row5 col2\" >2008</td>\n",
       "            </tr>\n",
       "            <tr>\n",
       "                                <td id=\"T_83d54_row6_col0\" class=\"data row6 col0\" >Pulp Fiction</td>\n",
       "                        <td id=\"T_83d54_row6_col1\" class=\"data row6 col1\" >8.100000</td>\n",
       "                        <td id=\"T_83d54_row6_col2\" class=\"data row6 col2\" >1994</td>\n",
       "            </tr>\n",
       "            <tr>\n",
       "                                <td id=\"T_83d54_row7_col0\" class=\"data row7 col0\" >Schindler's List</td>\n",
       "                        <td id=\"T_83d54_row7_col1\" class=\"data row7 col1\" >8.100000</td>\n",
       "                        <td id=\"T_83d54_row7_col2\" class=\"data row7 col2\" >1993</td>\n",
       "            </tr>\n",
       "            <tr>\n",
       "                                <td id=\"T_83d54_row8_col0\" class=\"data row8 col0\" >Fight Club</td>\n",
       "                        <td id=\"T_83d54_row8_col1\" class=\"data row8 col1\" >8.100000</td>\n",
       "                        <td id=\"T_83d54_row8_col2\" class=\"data row8 col2\" >1999</td>\n",
       "            </tr>\n",
       "            <tr>\n",
       "                                <td id=\"T_83d54_row9_col0\" class=\"data row9 col0\" >Forrest Gump</td>\n",
       "                        <td id=\"T_83d54_row9_col1\" class=\"data row9 col1\" >8.100000</td>\n",
       "                        <td id=\"T_83d54_row9_col2\" class=\"data row9 col2\" >1994</td>\n",
       "            </tr>\n",
       "    </tbody></table>"
      ],
      "text/plain": [
       "<pandas.io.formats.style.Styler at 0x1daee693b50>"
      ]
     },
     "execution_count": 12,
     "metadata": {},
     "output_type": "execute_result"
    }
   ],
   "source": [
    "#Sort based on Voting Average\n",
    "df_vote = df.sort_values(['vote_average'], ascending = False)\n",
    "df_vote.head(10)[['original_title', 'vote_average', 'release_year']].style.hide_index()"
   ]
  },
  {
   "cell_type": "markdown",
   "id": "318d3ba9-2ea3-4706-a6c2-943b99724c83",
   "metadata": {},
   "source": [
    "Finding: Looking at the top 10 movies based on popularity and revenue, there are only 2 movies (Star Wars and Star Wars: The Force Awakens) that are listed for both.  It will be interesting to see if there is any correlation between the two as you would expect the popular movies to make more revenue.  I also decided to look at the top movies based on the voting average (TMDb's user voting score).  This also gives us a different list of top 10 movies."
   ]
  },
  {
   "cell_type": "markdown",
   "id": "cb54b59f-df9e-47fc-9843-bad912a59e32",
   "metadata": {},
   "source": [
    "<b>To determine if there is any relationship between popularity and revenue or popularity and voting average, I will take a look at the data and calculate the correlations."
   ]
  },
  {
   "cell_type": "code",
   "execution_count": 13,
   "id": "4606f5bc-d58c-45b4-9c58-88f5392974f6",
   "metadata": {},
   "outputs": [
    {
     "data": {
      "image/png": "[encoded data removed]",
      "text/plain": [
       "<Figure size 1080x360 with 2 Axes>"
      ]
     },
     "metadata": {
      "needs_background": "light"
     },
     "output_type": "display_data"
    }
   ],
   "source": [
    "#plot popularity with revenue_adj and voting average to see visually if they appear correlated\n",
    "plt.figure(figsize = (15,5))\n",
    "\n",
    "plt.subplot(1,2,1)\n",
    "plt.scatter(df.popularity, df.revenue_adj);\n",
    "plt.xlabel(\"popularity\")\n",
    "plt.ylabel(\"revenue adj\")\n",
    "\n",
    "plt.subplot(1,2,2)\n",
    "plt.scatter(df.popularity, df.vote_average);\n",
    "plt.xlabel(\"popularity\")\n",
    "plt.ylabel(\"vote average\");"
   ]
  },
  {
   "cell_type": "markdown",
   "id": "c9ed5b4c-c7fa-433b-8c01-470c91ca3029",
   "metadata": {},
   "source": [
    "Finding: We can see there are a few outliers based on the popularity rating preventing us from seeing if there is any clear correlation.  "
   ]
  },
  {
   "cell_type": "markdown",
   "id": "da7f66f0-083e-4806-b205-a0c1fbbf8b27",
   "metadata": {},
   "source": [
    "<b>I will remove these three outliers to see if this helps."
   ]
  },
  {
   "cell_type": "code",
   "execution_count": 14,
   "id": "9e5f00ea-a6b2-4f72-adb4-f9efb7f5fa29",
   "metadata": {},
   "outputs": [],
   "source": [
    "#Drop the three popularity values above 20 from the data\n",
    "index_names = df[(df['popularity'] > 20)].index\n",
    "df_scatter = df.drop(index_names)"
   ]
  },
  {
   "cell_type": "code",
   "execution_count": 15,
   "id": "91281aa5-b901-4129-8352-3c91ca7694ef",
   "metadata": {},
   "outputs": [
    {
     "data": {
      "image/png": "[encoded data removed]",
      "text/plain": [
       "<Figure size 1080x360 with 2 Axes>"
      ]
     },
     "metadata": {
      "needs_background": "light"
     },
     "output_type": "display_data"
    }
   ],
   "source": [
    "#Replot popularity with revenue_adj and voting average to see visually if they appear correlated\n",
    "plt.figure(figsize = (15,5))\n",
    "\n",
    "plt.subplot(1,2,1)\n",
    "plt.scatter(df_scatter.popularity, df_scatter.revenue_adj);\n",
    "plt.xlabel(\"popularity\")\n",
    "plt.ylabel(\"revenue adj\")\n",
    "\n",
    "plt.subplot(1,2,2)\n",
    "plt.scatter(df_scatter.popularity, df_scatter.vote_average);\n",
    "plt.xlabel(\"popularity\")\n",
    "plt.ylabel(\"vote average\");"
   ]
  },
  {
   "cell_type": "markdown",
   "id": "35cb29d1-87df-4fd6-ae28-5a053b8e870f",
   "metadata": {},
   "source": [
    "<b>Next I will calculate the Spearman correlation (based on ranks) to see what the actual correlation coefficient is."
   ]
  },
  {
   "cell_type": "code",
   "execution_count": 16,
   "id": "270def41-f8dd-44f0-8f0d-60530feb7c07",
   "metadata": {},
   "outputs": [
    {
     "name": "stdout",
     "output_type": "stream",
     "text": [
      "SpearmanrResult(correlation=0.607623713698522, pvalue=0.0)\n",
      "SpearmanrResult(correlation=0.30860531054730167, pvalue=8.872487286596436e-86)\n"
     ]
    }
   ],
   "source": [
    "#calculate Spearman's rho correlation using a scipy function\n",
    "print(scipy.stats.spearmanr(df_scatter[\"popularity\"], df_scatter[\"revenue_adj\"]))\n",
    "print(scipy.stats.spearmanr(df_scatter[\"popularity\"], df_scatter[\"vote_average\"]))"
   ]
  },
  {
   "cell_type": "markdown",
   "id": "33c30320-9617-4f99-a8d4-27c26f5113cd",
   "metadata": {},
   "source": [
    "Finding: Removing the three outliers did improve the plots, but it still doesn't appear that these features are strongly correlated.  The Spearman correlation coefficient is 0.61 between revenue and popularity, showing some positive correlation but not strongly correlated.  There is even less correlation between the voting average and popularity with a coefficient of 0.31.  So from this I would conclude that revenue appears to have some influence on the popularity score but that there are other factors that influence it."
   ]
  },
  {
   "cell_type": "markdown",
   "id": "08a88e5a-79cb-4518-92dc-2a702a463111",
   "metadata": {},
   "source": [
    "<b>Next I will look at the movies with the longest and shortest runtimes."
   ]
  },
  {
   "cell_type": "code",
   "execution_count": 17,
   "id": "1dec1012-f7a8-4f18-a22f-232321513f99",
   "metadata": {},
   "outputs": [
    {
     "data": {
      "text/html": [
       "<div>\n",
       "<style scoped>\n",
       "    .dataframe tbody tr th:only-of-type {\n",
       "        vertical-align: middle;\n",
       "    }\n",
       "\n",
       "    .dataframe tbody tr th {\n",
       "        vertical-align: top;\n",
       "    }\n",
       "\n",
       "    .dataframe thead th {\n",
       "        text-align: right;\n",
       "    }\n",
       "</style>\n",
       "<table border=\"1\" class=\"dataframe\">\n",
       "  <thead>\n",
       "    <tr style=\"text-align: right;\">\n",
       "      <th></th>\n",
       "      <th>original_title</th>\n",
       "      <th>runtime</th>\n",
       "      <th>release_year</th>\n",
       "    </tr>\n",
       "  </thead>\n",
       "  <tbody>\n",
       "    <tr>\n",
       "      <th>2107</th>\n",
       "      <td>Carlos</td>\n",
       "      <td>338</td>\n",
       "      <td>2010</td>\n",
       "    </tr>\n",
       "    <tr>\n",
       "      <th>10443</th>\n",
       "      <td>Cleopatra</td>\n",
       "      <td>248</td>\n",
       "      <td>1963</td>\n",
       "    </tr>\n",
       "    <tr>\n",
       "      <th>7332</th>\n",
       "      <td>Heaven's Gate</td>\n",
       "      <td>219</td>\n",
       "      <td>1980</td>\n",
       "    </tr>\n",
       "    <tr>\n",
       "      <th>9850</th>\n",
       "      <td>Lawrence of Arabia</td>\n",
       "      <td>216</td>\n",
       "      <td>1962</td>\n",
       "    </tr>\n",
       "    <tr>\n",
       "      <th>5065</th>\n",
       "      <td>Gods and Generals</td>\n",
       "      <td>214</td>\n",
       "      <td>2003</td>\n",
       "    </tr>\n",
       "    <tr>\n",
       "      <th>3110</th>\n",
       "      <td>Jodhaa Akbar</td>\n",
       "      <td>213</td>\n",
       "      <td>2008</td>\n",
       "    </tr>\n",
       "    <tr>\n",
       "      <th>8282</th>\n",
       "      <td>Malcolm X</td>\n",
       "      <td>202</td>\n",
       "      <td>1992</td>\n",
       "    </tr>\n",
       "    <tr>\n",
       "      <th>4949</th>\n",
       "      <td>The Lord of the Rings: The Return of the King</td>\n",
       "      <td>201</td>\n",
       "      <td>2003</td>\n",
       "    </tr>\n",
       "    <tr>\n",
       "      <th>9758</th>\n",
       "      <td>The Godfather: Part II</td>\n",
       "      <td>200</td>\n",
       "      <td>1974</td>\n",
       "    </tr>\n",
       "    <tr>\n",
       "      <th>10716</th>\n",
       "      <td>The Greatest Story Ever Told</td>\n",
       "      <td>199</td>\n",
       "      <td>1965</td>\n",
       "    </tr>\n",
       "  </tbody>\n",
       "</table>\n",
       "</div>"
      ],
      "text/plain": [
       "                                      original_title  runtime  release_year\n",
       "2107                                          Carlos      338          2010\n",
       "10443                                      Cleopatra      248          1963\n",
       "7332                                   Heaven's Gate      219          1980\n",
       "9850                              Lawrence of Arabia      216          1962\n",
       "5065                               Gods and Generals      214          2003\n",
       "3110                                    Jodhaa Akbar      213          2008\n",
       "8282                                       Malcolm X      202          1992\n",
       "4949   The Lord of the Rings: The Return of the King      201          2003\n",
       "9758                          The Godfather: Part II      200          1974\n",
       "10716                   The Greatest Story Ever Told      199          1965"
      ]
     },
     "execution_count": 17,
     "metadata": {},
     "output_type": "execute_result"
    }
   ],
   "source": [
    "#Sort based on Runtime\n",
    "df_rev = df.sort_values(['runtime'], ascending = False)\n",
    "df_rev.head(10)[['original_title', 'runtime', 'release_year']]"
   ]
  },
  {
   "cell_type": "code",
   "execution_count": 18,
   "id": "c05b9740-8721-4760-866c-dbf54cd07fe3",
   "metadata": {},
   "outputs": [
    {
     "data": {
      "text/html": [
       "<div>\n",
       "<style scoped>\n",
       "    .dataframe tbody tr th:only-of-type {\n",
       "        vertical-align: middle;\n",
       "    }\n",
       "\n",
       "    .dataframe tbody tr th {\n",
       "        vertical-align: top;\n",
       "    }\n",
       "\n",
       "    .dataframe thead th {\n",
       "        text-align: right;\n",
       "    }\n",
       "</style>\n",
       "<table border=\"1\" class=\"dataframe\">\n",
       "  <thead>\n",
       "    <tr style=\"text-align: right;\">\n",
       "      <th></th>\n",
       "      <th>original_title</th>\n",
       "      <th>runtime</th>\n",
       "      <th>release_year</th>\n",
       "    </tr>\n",
       "  </thead>\n",
       "  <tbody>\n",
       "    <tr>\n",
       "      <th>4966</th>\n",
       "      <td>The Jungle Book 2</td>\n",
       "      <td>72</td>\n",
       "      <td>2003</td>\n",
       "    </tr>\n",
       "    <tr>\n",
       "      <th>4000</th>\n",
       "      <td>Return to Never Land</td>\n",
       "      <td>72</td>\n",
       "      <td>2002</td>\n",
       "    </tr>\n",
       "    <tr>\n",
       "      <th>10093</th>\n",
       "      <td>Paris is Burning</td>\n",
       "      <td>71</td>\n",
       "      <td>1990</td>\n",
       "    </tr>\n",
       "    <tr>\n",
       "      <th>9462</th>\n",
       "      <td>The Land Before Time</td>\n",
       "      <td>69</td>\n",
       "      <td>1988</td>\n",
       "    </tr>\n",
       "    <tr>\n",
       "      <th>7020</th>\n",
       "      <td>9 Songs</td>\n",
       "      <td>66</td>\n",
       "      <td>2004</td>\n",
       "    </tr>\n",
       "    <tr>\n",
       "      <th>3424</th>\n",
       "      <td>Winnie the Pooh</td>\n",
       "      <td>63</td>\n",
       "      <td>2011</td>\n",
       "    </tr>\n",
       "    <tr>\n",
       "      <th>3818</th>\n",
       "      <td>Louis C.K.: Live at the Beacon Theater</td>\n",
       "      <td>62</td>\n",
       "      <td>2011</td>\n",
       "    </tr>\n",
       "    <tr>\n",
       "      <th>3239</th>\n",
       "      <td>Dr. Horrible's Sing-Along Blog</td>\n",
       "      <td>42</td>\n",
       "      <td>2008</td>\n",
       "    </tr>\n",
       "    <tr>\n",
       "      <th>8005</th>\n",
       "      <td>Mickey's Christmas Carol</td>\n",
       "      <td>26</td>\n",
       "      <td>1983</td>\n",
       "    </tr>\n",
       "    <tr>\n",
       "      <th>5162</th>\n",
       "      <td>Kid's Story</td>\n",
       "      <td>15</td>\n",
       "      <td>2003</td>\n",
       "    </tr>\n",
       "  </tbody>\n",
       "</table>\n",
       "</div>"
      ],
      "text/plain": [
       "                               original_title  runtime  release_year\n",
       "4966                        The Jungle Book 2       72          2003\n",
       "4000                     Return to Never Land       72          2002\n",
       "10093                        Paris is Burning       71          1990\n",
       "9462                     The Land Before Time       69          1988\n",
       "7020                                  9 Songs       66          2004\n",
       "3424                          Winnie the Pooh       63          2011\n",
       "3818   Louis C.K.: Live at the Beacon Theater       62          2011\n",
       "3239           Dr. Horrible's Sing-Along Blog       42          2008\n",
       "8005                 Mickey's Christmas Carol       26          1983\n",
       "5162                              Kid's Story       15          2003"
      ]
     },
     "execution_count": 18,
     "metadata": {},
     "output_type": "execute_result"
    }
   ],
   "source": [
    "df_rev.tail(10)[['original_title', 'runtime', 'release_year']]"
   ]
  },
  {
   "cell_type": "markdown",
   "id": "540a18fd-7f95-4634-bde2-2ddfcff297e7",
   "metadata": {},
   "source": [
    "<b>Let's see if runtime affects the popularity of a movie"
   ]
  },
  {
   "cell_type": "code",
   "execution_count": 19,
   "id": "ed127935-dd02-4960-8152-9df46282a85b",
   "metadata": {},
   "outputs": [
    {
     "data": {
      "image/png": "[encoded data removed]",
      "text/plain": [
       "<Figure size 1080x360 with 1 Axes>"
      ]
     },
     "metadata": {
      "needs_background": "light"
     },
     "output_type": "display_data"
    }
   ],
   "source": [
    "#plot popularity with revenue_adj and voting average to see visually if they appear correlated\n",
    "plt.figure(figsize = (15,5))\n",
    "\n",
    "plt.scatter(df_scatter.popularity, df_scatter.runtime);\n",
    "plt.xlabel(\"popularity\")\n",
    "plt.ylabel(\"runtime\");"
   ]
  },
  {
   "cell_type": "code",
   "execution_count": 20,
   "id": "70536667-3758-472a-b9d7-70d0d340a622",
   "metadata": {},
   "outputs": [
    {
     "name": "stdout",
     "output_type": "stream",
     "text": [
      "SpearmanrResult(correlation=0.19875395508443727, pvalue=1.2968018561189533e-35)\n"
     ]
    }
   ],
   "source": [
    "#calculate Spearman's rho correlation using a scipy function\n",
    "print(scipy.stats.spearmanr(df_scatter[\"popularity\"], df_scatter[\"runtime\"]))"
   ]
  },
  {
   "cell_type": "markdown",
   "id": "1d334768-341d-4f43-bbef-f61fadac773e",
   "metadata": {},
   "source": [
    "Finding: It appears runtime very little influence on the popularity score of a movie!"
   ]
  },
  {
   "cell_type": "markdown",
   "id": "02127b86-09ef-4b03-b32a-ceb91f47fb7f",
   "metadata": {},
   "source": [
    "## Conclusion ##\n",
    "It doesn't appear that any particular feature in this data strongly influences the popularity score that TMDb has associated with each movie.  Everyone is different and has different likes, so the popularity rating of one site or one person will not be the same for the next person.  The popularity score might be a good start to select your next movie to watch rather than picking one out at random, but there is no guarantee that you will also like the movie just because it has a high popularity score!  Even Siskel and Ebert, who were two well known film critics didn't agree on everything!"
   ]
  }
 ],
 "metadata": {
  "kernelspec": {
   "display_name": "Python 3",
   "language": "python",
   "name": "python3"
  },
  "language_info": {
   "codemirror_mode": {
    "name": "ipython",
    "version": 3
   },
   "file_extension": ".py",
   "mimetype": "text/x-python",
   "name": "python",
   "nbconvert_exporter": "python",
   "pygments_lexer": "ipython3",
   "version": "3.8.8"
  }
 },
 "nbformat": 4,
 "nbformat_minor": 5
}
